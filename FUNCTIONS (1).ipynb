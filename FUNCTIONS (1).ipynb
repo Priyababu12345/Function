{
  "nbformat": 4,
  "nbformat_minor": 0,
  "metadata": {
    "colab": {
      "provenance": []
    },
    "kernelspec": {
      "name": "python3",
      "display_name": "Python 3"
    },
    "language_info": {
      "name": "python"
    }
  },
  "cells": [
    {
      "cell_type": "code",
      "execution_count": null,
      "metadata": {
        "colab": {
          "base_uri": "https://localhost:8080/"
        },
        "id": "54fWnDTaxW-w",
        "outputId": "ee1b85af-26c0-47c3-bc27-8b80408e5b07"
      },
      "outputs": [
        {
          "output_type": "stream",
          "name": "stdout",
          "text": [
            "roll no first student\n"
          ]
        }
      ],
      "source": [
        "#Q.What is the difference between a function and method in python?\n",
        "#ans\n",
        "#A block of reusable code that perform a specific task.independent of any object.\n",
        "def student():\n",
        "    print(\"roll no first student\")\n",
        "student()\n"
      ]
    },
    {
      "cell_type": "code",
      "source": [
        "#method are function associated with an object\n",
        "#called using the object it operation\n",
        "my_string=\"hello world\"\n",
        "my_string.upper()\n"
      ],
      "metadata": {
        "colab": {
          "base_uri": "https://localhost:8080/",
          "height": 36
        },
        "id": "JaGqnW2Izkkz",
        "outputId": "9e8069f7-a9d3-440b-e875-8f352a4aefc6"
      },
      "execution_count": null,
      "outputs": [
        {
          "output_type": "execute_result",
          "data": {
            "text/plain": [
              "'HELLO WORLD'"
            ],
            "application/vnd.google.colaboratory.intrinsic+json": {
              "type": "string"
            }
          },
          "metadata": {},
          "execution_count": 5
        }
      ]
    },
    {
      "cell_type": "code",
      "source": [
        "def welcome():\n",
        "    print(\"welcome to python\")\n",
        "welcome()\n",
        "welcome()\n"
      ],
      "metadata": {
        "colab": {
          "base_uri": "https://localhost:8080/"
        },
        "id": "l6zrklGy0-xA",
        "outputId": "9e3084bf-b02d-4718-eace-fdade1be52c6"
      },
      "execution_count": null,
      "outputs": [
        {
          "output_type": "stream",
          "name": "stdout",
          "text": [
            "welcome to python\n",
            "welcome to python\n"
          ]
        }
      ]
    },
    {
      "cell_type": "code",
      "source": [
        "class myclass:\n",
        "      def my_student(ram):\n",
        "          print(\"hello student\")\n",
        "obj=myclass()\n",
        "obj.my_student()"
      ],
      "metadata": {
        "colab": {
          "base_uri": "https://localhost:8080/"
        },
        "id": "5phHIBi12DKA",
        "outputId": "2770f923-4e15-4cbb-a12e-ee55ffe731e6"
      },
      "execution_count": null,
      "outputs": [
        {
          "output_type": "stream",
          "name": "stdout",
          "text": [
            "hello student\n"
          ]
        }
      ]
    },
    {
      "cell_type": "code",
      "source": [
        "#2.Explain the concept of function arguments and parameters in python\n",
        "#ans\n",
        "#parameters are palced holders defined for values that the function will require and arguement are value or information that we specify in place of parameter and these values are passed in as argements.\n",
        "#parameter is the variable\n",
        "#argument is the actual value\n",
        "def profit(profit_1,profit_2):\n",
        "    total_profit=profit_1+profit_2\n",
        "    print(total_profit)\n",
        "profit(100,200)"
      ],
      "metadata": {
        "colab": {
          "base_uri": "https://localhost:8080/"
        },
        "id": "lFOyK4Bp2cJN",
        "outputId": "d771b6ed-ccc7-4f35-c4d0-6bb92d8987ac"
      },
      "execution_count": null,
      "outputs": [
        {
          "output_type": "stream",
          "name": "stdout",
          "text": [
            "300\n"
          ]
        }
      ]
    },
    {
      "cell_type": "code",
      "source": [
        "#no return type without arguement fun\n",
        "def add():\n",
        "    a=int(input(\"Enter The Value of A : \"))\n",
        "    b=int(input(\"Enter The Value of B : \"))\n",
        "    c=a+b\n",
        "    print(\"Total \",c)\n",
        "add()"
      ],
      "metadata": {
        "colab": {
          "base_uri": "https://localhost:8080/"
        },
        "id": "tiWlkA4y6GwC",
        "outputId": "b6887f4e-1f00-4a13-965b-d9c694a24aa8"
      },
      "execution_count": null,
      "outputs": [
        {
          "output_type": "stream",
          "name": "stdout",
          "text": [
            "Enter The Value of A : 10\n",
            "Enter The Value of B : 20\n",
            "Total  30\n"
          ]
        }
      ]
    },
    {
      "cell_type": "code",
      "source": [
        "# No Return Type With Argument Function in Python\n",
        "def sub(a, b):\n",
        "    c = a - b\n",
        "    print(\"Difference : \", c)\n",
        "\n",
        "\n",
        "sub(25, 2)"
      ],
      "metadata": {
        "colab": {
          "base_uri": "https://localhost:8080/"
        },
        "id": "X7oFPGQF9upF",
        "outputId": "72a22fa8-9601-4c7a-f1f3-dc6c4c707d9c"
      },
      "execution_count": null,
      "outputs": [
        {
          "output_type": "stream",
          "name": "stdout",
          "text": [
            "Difference :  23\n"
          ]
        }
      ]
    },
    {
      "cell_type": "code",
      "source": [
        "# Return Type Without Argument Function in Python\n",
        "def mul():\n",
        "    a = int(input(\"Enter The Value of A : \"))\n",
        "    b = int(input(\"Enter The Value of B : \"))\n",
        "    c = a * b\n",
        "    return c\n",
        "\n",
        "\n",
        "x=mul()\n",
        "print(\"Mul \",x)"
      ],
      "metadata": {
        "colab": {
          "base_uri": "https://localhost:8080/"
        },
        "id": "2PYTvhEk-BzE",
        "outputId": "181ec3d0-74c2-4ecd-eb13-ee9f80e4da33"
      },
      "execution_count": null,
      "outputs": [
        {
          "output_type": "stream",
          "name": "stdout",
          "text": [
            "Enter The Value of A : 10\n",
            "Enter The Value of B : 30\n",
            "Mul  300\n"
          ]
        }
      ]
    },
    {
      "cell_type": "code",
      "source": [
        "# Return Type With Argument Function in Python\n",
        "def div(a, b):\n",
        "    c = a / b\n",
        "    return c\n",
        "\n",
        "\n",
        "x = div(25, 2)\n",
        "print(\"Division \", x)"
      ],
      "metadata": {
        "colab": {
          "base_uri": "https://localhost:8080/"
        },
        "id": "8eRVK3uv-O9T",
        "outputId": "b8d8a78e-a183-422f-a0c9-8a9ff4d355cf"
      },
      "execution_count": null,
      "outputs": [
        {
          "output_type": "stream",
          "name": "stdout",
          "text": [
            "Division  12.5\n"
          ]
        }
      ]
    },
    {
      "cell_type": "code",
      "source": [
        "# Arbitrary Arguments Function in Python (*)\n",
        "def class_10(*students):\n",
        "    print(students)\n",
        "    for user in students:\n",
        "        print(user)"
      ],
      "metadata": {
        "id": "C0tI4a4B-YRq"
      },
      "execution_count": null,
      "outputs": []
    },
    {
      "cell_type": "code",
      "source": [
        "class_10(\"Ram\", \"Sam\", \"Raja\", \"Sara\")"
      ],
      "metadata": {
        "colab": {
          "base_uri": "https://localhost:8080/"
        },
        "id": "LDV2V0mu-nkR",
        "outputId": "9e930689-beb2-4820-9a98-f3a7aaa0255e"
      },
      "execution_count": null,
      "outputs": [
        {
          "output_type": "stream",
          "name": "stdout",
          "text": [
            "('Ram', 'Sam', 'Raja', 'Sara')\n",
            "Ram\n",
            "Sam\n",
            "Raja\n",
            "Sara\n"
          ]
        }
      ]
    },
    {
      "cell_type": "code",
      "source": [
        "# Keyword Arguments Function in Python\n",
        "\n",
        "def message(name, age):\n",
        "    print(name, \" age is \", age)\n",
        "\n",
        "\n",
        "message(age=25, name=\"Ram\")"
      ],
      "metadata": {
        "colab": {
          "base_uri": "https://localhost:8080/"
        },
        "id": "hGOoFDC1-tEv",
        "outputId": "940800ef-3029-42ae-ffc2-47e0cbe592f1"
      },
      "execution_count": null,
      "outputs": [
        {
          "output_type": "stream",
          "name": "stdout",
          "text": [
            "Ram  age is  25\n"
          ]
        }
      ]
    },
    {
      "cell_type": "code",
      "source": [
        "# Arbitrary Keyword Arguments in Python(**)\n",
        "def bioData(**data):\n",
        "    print(data)\n",
        "\n",
        "\n",
        "bioData(name=\"Ram Kumar\", age=25, gender=\"Male\")"
      ],
      "metadata": {
        "colab": {
          "base_uri": "https://localhost:8080/"
        },
        "id": "9jm3LxWn-0lW",
        "outputId": "6b1fd5f4-5139-45cb-d556-8d7ff1ca98f8"
      },
      "execution_count": null,
      "outputs": [
        {
          "output_type": "stream",
          "name": "stdout",
          "text": [
            "{'name': 'Ram Kumar', 'age': 25, 'gender': 'Male'}\n"
          ]
        }
      ]
    },
    {
      "cell_type": "code",
      "source": [
        "# Default Parameter Function in Python\n",
        "def user(name, city=\"Salem\"):\n",
        "    print(name, \" is from \", city)\n",
        "\n",
        "\n",
        "user(\"Ram\", \"Namakkal\")\n",
        "user(\"Sam\")"
      ],
      "metadata": {
        "colab": {
          "base_uri": "https://localhost:8080/"
        },
        "id": "Cm4QOYO0-9yx",
        "outputId": "4a15c4d8-34c8-44f4-b80d-526356d5afdd"
      },
      "execution_count": null,
      "outputs": [
        {
          "output_type": "stream",
          "name": "stdout",
          "text": [
            "Ram  is from  Namakkal\n",
            "Sam  is from  Salem\n"
          ]
        }
      ]
    },
    {
      "cell_type": "code",
      "source": [
        "#3.Wht are the difference ways to deefine and call a function in python?\n",
        "#ans\n",
        "#define function\n",
        "#callinfg function\n",
        "#passing argument int a function\n",
        "def greet(name):\n",
        "    print(\"Hello, \" + name + \"! how are u\")"
      ],
      "metadata": {
        "id": "ffgy_H2E_FMe"
      },
      "execution_count": null,
      "outputs": []
    },
    {
      "cell_type": "code",
      "source": [
        "greet(\"priya\")"
      ],
      "metadata": {
        "colab": {
          "base_uri": "https://localhost:8080/"
        },
        "id": "jf7bjXqWByXF",
        "outputId": "4de45b3c-8e21-4d6a-b8e3-5e17779bf6bb"
      },
      "execution_count": null,
      "outputs": [
        {
          "output_type": "stream",
          "name": "stdout",
          "text": [
            "Hello, priya! how are u\n"
          ]
        }
      ]
    },
    {
      "cell_type": "code",
      "source": [
        "def get_even_numbers(numbers):\n",
        "    even_numbers = []\n",
        "    for number in numbers:\n",
        "        if number % 2 == 0:\n",
        "            even_numbers.append(number)\n",
        "    return even_numbers\n",
        "numbers = [1,2,3,4,5]\n",
        "even_numbers=get_even_numbers(numbers)\n",
        "print(even_numbers)"
      ],
      "metadata": {
        "colab": {
          "base_uri": "https://localhost:8080/"
        },
        "id": "1VlQQCoqCSR3",
        "outputId": "affc7b2c-9c58-49a8-8b35-4d51be71ec86"
      },
      "execution_count": null,
      "outputs": [
        {
          "output_type": "stream",
          "name": "stdout",
          "text": [
            "[2, 4]\n"
          ]
        }
      ]
    },
    {
      "cell_type": "code",
      "source": [
        "#4.what are the purpose of the 'return' statement in apyhton function?\n",
        "#The python return  statment  marks the end of a function and seecifies the value to pass back from function.\n",
        "def demo(num):\n",
        "    return 10+num\n",
        "print(demo(2))\n",
        "print(demo(20))\n",
        "\n"
      ],
      "metadata": {
        "colab": {
          "base_uri": "https://localhost:8080/"
        },
        "id": "vfApWEwCDfiP",
        "outputId": "aef4feb7-621c-4e5c-940d-b9f88228e2f3"
      },
      "execution_count": null,
      "outputs": [
        {
          "output_type": "stream",
          "name": "stdout",
          "text": [
            "12\n",
            "30\n"
          ]
        }
      ]
    },
    {
      "cell_type": "code",
      "source": [
        "def demo(a,b,c):\n",
        "    res=a+b+c\n",
        "    return res\n",
        "print(demo(10,20,30))"
      ],
      "metadata": {
        "colab": {
          "base_uri": "https://localhost:8080/"
        },
        "id": "2nBTkwu9GMzq",
        "outputId": "19eadfff-7365-44fb-b8d6-377a5f0aa57f"
      },
      "execution_count": null,
      "outputs": [
        {
          "output_type": "stream",
          "name": "stdout",
          "text": [
            "60\n"
          ]
        }
      ]
    },
    {
      "cell_type": "code",
      "source": [
        "#5.What are the iterators in python and how do they fiff from iterable?\n",
        "#iterable any object that can be looped object\n",
        "#list ,tuple dictionary\n",
        "#iterator a protocol that define  hoe to loop terable,acces one element at a tym\n",
        "my_list=[1,2,3,4,5]\n",
        "my_iter=iter(my_list)\n",
        "print(next(my_iter))\n",
        "print(next(my_iter))\n",
        "print(next(my_iter))\n",
        "print(next(my_iter))"
      ],
      "metadata": {
        "colab": {
          "base_uri": "https://localhost:8080/"
        },
        "id": "4dUkvATDKzTX",
        "outputId": "3d2770b4-53c8-45b7-a808-21058297bf48"
      },
      "execution_count": null,
      "outputs": [
        {
          "output_type": "stream",
          "name": "stdout",
          "text": [
            "1\n",
            "2\n",
            "3\n",
            "4\n"
          ]
        }
      ]
    },
    {
      "cell_type": "code",
      "source": [
        "#6.explain the concept of generators in pyhton and how they are defined.\n"
      ],
      "metadata": {
        "id": "n9h1iCDpMxI-"
      },
      "execution_count": null,
      "outputs": []
    },
    {
      "cell_type": "code",
      "source": [
        "# Generators in Python\n",
        "# Generators are a type of iterable, like lists or tuples, but they generate values lazily, meaning they produce items one at a time as needed instead of storing them in memory all at once. This makes generators very memory efficient, especially when dealing with large datasets or infinite sequences.\n",
        "\n",
        "# Defining Generators\n",
        "# Generators are defined using functions with the yield keyword. When a generator function is called, it returns a generator object without executing the function. When you iterate over the generator, the function runs and produces values one at a time using yield.\n",
        "\n",
        "# Key Characteristics of Generators\n",
        "# Lazy Evaluation:\n",
        "\n",
        "# Only one value is generated at a time, reducing memory usage.\n",
        "# Ideal for large datasets or computations.\n",
        "# State Retention:\n",
        "\n",
        "# Generators automatically save their state between yield calls.\n",
        "# Execution resumes from where it left off.\n",
        "# Infinite Sequences:\n",
        "\n",
        "# Can be used to produce sequences with no fixed end, e.g., numbers from 1 to infinity.\n",
        "# Syntax and Example\n"
      ],
      "metadata": {
        "id": "-tcUxXOaOyWM"
      },
      "execution_count": null,
      "outputs": []
    },
    {
      "cell_type": "code",
      "source": [
        "def simple_generator():\n",
        "    yield 1\n",
        "    yield 2\n",
        "    yield 3\n",
        "\n",
        "# Using the generator\n",
        "gen = simple_generator()\n",
        "for value in gen:\n",
        "    print(value)\n"
      ],
      "metadata": {
        "colab": {
          "base_uri": "https://localhost:8080/"
        },
        "id": "cC4OgOWpQDS6",
        "outputId": "23873121-aefd-4119-a26a-8c55f87d341a"
      },
      "execution_count": null,
      "outputs": [
        {
          "output_type": "stream",
          "name": "stdout",
          "text": [
            "1\n",
            "2\n",
            "3\n"
          ]
        }
      ]
    },
    {
      "cell_type": "code",
      "source": [
        "# How yield Works\n",
        "# When yield is encountered, the function pauses, and the yielded value is returned to the caller.\n",
        "#  The function can resume execution from the point where it was paused."
      ],
      "metadata": {
        "id": "nLfS6CjTQIk1"
      },
      "execution_count": null,
      "outputs": []
    },
    {
      "cell_type": "code",
      "source": [
        "def count_up_to(n):\n",
        "    count = 1\n",
        "    while count <= n:\n",
        "        yield count\n",
        "        count += 1\n",
        "\n",
        "# Using the generator\n",
        "for number in count_up_to(5):\n",
        "    print(number)\n"
      ],
      "metadata": {
        "colab": {
          "base_uri": "https://localhost:8080/"
        },
        "id": "Vp18ossbQU04",
        "outputId": "2c308b09-ba3e-4dd7-f0c0-e41a229685f5"
      },
      "execution_count": null,
      "outputs": [
        {
          "output_type": "stream",
          "name": "stdout",
          "text": [
            "1\n",
            "2\n",
            "3\n",
            "4\n",
            "5\n"
          ]
        }
      ]
    },
    {
      "cell_type": "code",
      "source": [
        "# Difference Between Generators and Regular Functions\n",
        "# Return vs Yield:\n",
        "\n",
        "# Functions return a single value and terminate.\n",
        "# Generators use yield to produce a series of values, pausing and resuming execution.\n",
        "# Memory Efficiency:\n",
        "\n",
        "# Functions store all values in memory at once (e.g., a list).\n",
        "# Generators produce values on demand, consuming less memory"
      ],
      "metadata": {
        "id": "B_nZKwMNQeCT"
      },
      "execution_count": null,
      "outputs": []
    },
    {
      "cell_type": "code",
      "source": [
        "# Use Cases for Generators\n",
        "# Processing large files:"
      ],
      "metadata": {
        "id": "zmafnnIyQpDD"
      },
      "execution_count": null,
      "outputs": []
    },
    {
      "cell_type": "code",
      "source": [
        "def read_large_file(file_path):\n",
        "    with open(file_path) as file:\n",
        "        for line in file:\n",
        "            yield line.strip()\n"
      ],
      "metadata": {
        "id": "xfTdmfnZQuTK"
      },
      "execution_count": null,
      "outputs": []
    },
    {
      "cell_type": "code",
      "source": [
        "# Infinite sequences:"
      ],
      "metadata": {
        "id": "ZshIBDPoQxQE"
      },
      "execution_count": null,
      "outputs": []
    },
    {
      "cell_type": "code",
      "source": [
        "def infinite_numbers():\n",
        "    num = 0\n",
        "    while True:\n",
        "        yield num\n",
        "        num += 1\n"
      ],
      "metadata": {
        "id": "Q0o9kiIuQ5WC"
      },
      "execution_count": null,
      "outputs": []
    },
    {
      "cell_type": "code",
      "source": [
        "# Memory-efficient transformations:\n",
        "\n",
        "squares = (x**2 for x in range(10))\n",
        "for square in squares:\n",
        "    print(square)\n"
      ],
      "metadata": {
        "colab": {
          "base_uri": "https://localhost:8080/"
        },
        "id": "GBZLr_0pRAYX",
        "outputId": "41f87b54-0a16-49a2-d169-12836f1313f9"
      },
      "execution_count": null,
      "outputs": [
        {
          "output_type": "stream",
          "name": "stdout",
          "text": [
            "0\n",
            "1\n",
            "4\n",
            "9\n",
            "16\n",
            "25\n",
            "36\n",
            "49\n",
            "64\n",
            "81\n"
          ]
        }
      ]
    },
    {
      "cell_type": "code",
      "source": [
        "# Q.7 What are the advantages of using generators over regular function?"
      ],
      "metadata": {
        "id": "Z5-t5VKERXkb"
      },
      "execution_count": null,
      "outputs": []
    },
    {
      "cell_type": "code",
      "source": [
        "# Memory Efficiency\n",
        "# Regular Functions: Return entire collections (e.g., lists or tuples), which can use a large amount of memory for big datasets.\n",
        "# Generators: Yield one value at a time, producing elements on demand without storing them in memory."
      ],
      "metadata": {
        "id": "o6IWi-95SuBV"
      },
      "execution_count": null,
      "outputs": []
    },
    {
      "cell_type": "code",
      "source": [
        "def squares_list(n):\n",
        "    return [x**2 for x in range(n)]\n",
        "\n",
        "def squares_generator(n):\n",
        "    for x in range(n):\n",
        "        yield x**2\n",
        "squares_list(5)\n"
      ],
      "metadata": {
        "colab": {
          "base_uri": "https://localhost:8080/"
        },
        "id": "cK2TXHPtTZ2Z",
        "outputId": "824e2583-d693-431c-af7d-90be42f229d3"
      },
      "execution_count": null,
      "outputs": [
        {
          "output_type": "execute_result",
          "data": {
            "text/plain": [
              "[0, 1, 4, 9, 16]"
            ]
          },
          "metadata": {},
          "execution_count": 32
        }
      ]
    },
    {
      "cell_type": "code",
      "source": [
        "# 2. Lazy Evaluation\n",
        "# Regular Functions: Compute all results immediately, even if not all are used.\n",
        "# Generators: Compute results only when requested, saving time and computational resources."
      ],
      "metadata": {
        "id": "Blvhi6WzTn9E"
      },
      "execution_count": null,
      "outputs": []
    },
    {
      "cell_type": "code",
      "source": [
        "def infinite_numbers():\n",
        "    num = 0\n",
        "    while True:\n",
        "        yield num\n",
        "        num += 1\n",
        "\n",
        "for num in infinite_numbers():\n",
        "    if num > 5:\n",
        "        break\n",
        "    print(num)\n"
      ],
      "metadata": {
        "colab": {
          "base_uri": "https://localhost:8080/"
        },
        "id": "Acwdcz2bT7he",
        "outputId": "2f50dda2-c3db-4a85-ae55-84dee3daaf53"
      },
      "execution_count": null,
      "outputs": [
        {
          "output_type": "stream",
          "name": "stdout",
          "text": [
            "0\n",
            "1\n",
            "2\n",
            "3\n",
            "4\n",
            "5\n"
          ]
        }
      ]
    },
    {
      "cell_type": "code",
      "source": [
        "#  Handling Infinite Sequences\n",
        "# Regular Functions: Can't return infinite sequences as they require a fixed end and use excessive memory.\n",
        "# Generators: Can handle infinite sequences by yielding values dynamically."
      ],
      "metadata": {
        "id": "02025QsFT_-N"
      },
      "execution_count": null,
      "outputs": []
    },
    {
      "cell_type": "code",
      "source": [
        "fib_gen = fibonacci()\n",
        "for _ in range(10):\n",
        "    print(next(fib_gen))\n",
        "\n"
      ],
      "metadata": {
        "colab": {
          "base_uri": "https://localhost:8080/"
        },
        "id": "jl2b9QnrUI2P",
        "outputId": "3667249a-0f05-4875-d273-ca7f0a18f178"
      },
      "execution_count": null,
      "outputs": [
        {
          "output_type": "stream",
          "name": "stdout",
          "text": [
            "0\n",
            "1\n",
            "1\n",
            "2\n",
            "3\n",
            "5\n",
            "8\n",
            "13\n",
            "21\n",
            "34\n"
          ]
        }
      ]
    },
    {
      "cell_type": "code",
      "source": [
        "# Simplified Code for State Management\n",
        "# Regular Functions: Require additional structures (e.g., variables or objects) to maintain state across calls.\n",
        "# Generators: Automatically retain their state between yield calls, simplifying code.\n"
      ],
      "metadata": {
        "id": "w3FAk66TUNR1"
      },
      "execution_count": null,
      "outputs": []
    },
    {
      "cell_type": "code",
      "source": [
        "def countdown(n):\n",
        "    while n > 0:\n",
        "        yield n\n",
        "        n -= 1\n",
        "for num in countdown(5):\n",
        "    print(num)"
      ],
      "metadata": {
        "colab": {
          "base_uri": "https://localhost:8080/"
        },
        "id": "dJY_yfnEUdNL",
        "outputId": "8b4fb6f7-4d05-4d81-a8a9-82428f0bdf25"
      },
      "execution_count": null,
      "outputs": [
        {
          "output_type": "stream",
          "name": "stdout",
          "text": [
            "5\n",
            "4\n",
            "3\n",
            "2\n",
            "1\n"
          ]
        }
      ]
    },
    {
      "cell_type": "code",
      "source": [
        "# No Need to Return Full Results\n",
        "# Regular Functions: Return all results at once, even if only a few are needed.\n",
        "# Generators: Can produce partial results and stop execution when enough data is retrieved."
      ],
      "metadata": {
        "id": "H0rIaWqlUgBu"
      },
      "execution_count": null,
      "outputs": []
    },
    {
      "cell_type": "code",
      "source": [
        "def first_n_squares():\n",
        "    for x in range(10):\n",
        "        yield x**2\n",
        "\n"
      ],
      "metadata": {
        "id": "IFYL8cfMUoog"
      },
      "execution_count": null,
      "outputs": []
    },
    {
      "cell_type": "code",
      "source": [
        "# better Scalability\n",
        "# Generators scale better for large or unbounded data streams compared to regular functions, which may face memory and processing bottlenecks.\n",
        "# 8. Streamlined Testing and Debugging\n",
        "# Generators let you inspect results incrementally, making it easier to debug iterative processes."
      ],
      "metadata": {
        "id": "mtEkIa7QUrQS"
      },
      "execution_count": null,
      "outputs": []
    },
    {
      "cell_type": "code",
      "source": [
        "#Q.8 What is the lambda function in python and when is it typically used?\n"
      ],
      "metadata": {
        "id": "ilE3MuTVUy9E"
      },
      "execution_count": null,
      "outputs": []
    },
    {
      "cell_type": "code",
      "source": [
        "#A lambda function in Python is a small, anonymous function that can have any number of arguments but only a single expression. It is defined using the lambda keyword and is often used for short, simple operations."
      ],
      "metadata": {
        "id": "BzUQXJoZYaDW"
      },
      "execution_count": null,
      "outputs": []
    },
    {
      "cell_type": "code",
      "source": [
        "# Regular function\n",
        "def add(x, y):\n",
        "    return x + y\n",
        "\n",
        "# Equivalent lambda function\n",
        "add_lambda = lambda x, y: x + y\n",
        "\n",
        "# Usage\n",
        "print(add(3, 5))\n",
        "print(add_lambda(3, 5))\n"
      ],
      "metadata": {
        "colab": {
          "base_uri": "https://localhost:8080/"
        },
        "id": "DGMBl1H9YvoX",
        "outputId": "d444dd89-3161-49bb-dff2-80a34e7a6b5c"
      },
      "execution_count": null,
      "outputs": [
        {
          "output_type": "stream",
          "name": "stdout",
          "text": [
            "8\n",
            "8\n"
          ]
        }
      ]
    },
    {
      "cell_type": "code",
      "source": [
        "# Anonymous: Lambda functions are usually unnamed.\n",
        "# Compact: They are written in a single line and are great for simple tasks.\n",
        "# Single Expression: Can only contain a single expression (no statements or complex logic)."
      ],
      "metadata": {
        "id": "qT5oAo_LY3qc"
      },
      "execution_count": null,
      "outputs": []
    },
    {
      "cell_type": "code",
      "source": [
        "# When to Use Lambda Functions\n",
        "# Short, Simple Functions:\n",
        "# When a function is needed temporarily or for a very simple task."
      ],
      "metadata": {
        "id": "70vzqlYkY-cv"
      },
      "execution_count": null,
      "outputs": []
    },
    {
      "cell_type": "code",
      "source": [
        "square = lambda x: x**2\n",
        "print(square(4))\n"
      ],
      "metadata": {
        "colab": {
          "base_uri": "https://localhost:8080/"
        },
        "id": "GpKcSNQIZGXS",
        "outputId": "76d0174f-974c-45b9-d335-323136847285"
      },
      "execution_count": null,
      "outputs": [
        {
          "output_type": "stream",
          "name": "stdout",
          "text": [
            "16\n"
          ]
        }
      ]
    },
    {
      "cell_type": "code",
      "source": [
        "# As Arguments to Higher-Order Functions:\n",
        "\n",
        "# Lambda functions are often passed to functions like map, filter, and sorted.\n"
      ],
      "metadata": {
        "id": "zERVH3OYZJvy"
      },
      "execution_count": null,
      "outputs": []
    },
    {
      "cell_type": "code",
      "source": [
        "nums = [1, 2, 3, 4, 5]\n",
        "squares = map(lambda x: x**2, nums)\n",
        "print(list(squares))\n"
      ],
      "metadata": {
        "colab": {
          "base_uri": "https://localhost:8080/"
        },
        "id": "Hq-DhPZyZT5T",
        "outputId": "42211d04-39b7-43c9-a5c9-fac31806d5d2"
      },
      "execution_count": null,
      "outputs": [
        {
          "output_type": "stream",
          "name": "stdout",
          "text": [
            "[1, 4, 9, 16, 25]\n"
          ]
        }
      ]
    },
    {
      "cell_type": "code",
      "source": [
        "# Sorting with Custom Keys:\n",
        "\n",
        "# Used to define a custom sorting logic"
      ],
      "metadata": {
        "id": "6oNPCv3oZZRc"
      },
      "execution_count": null,
      "outputs": []
    },
    {
      "cell_type": "code",
      "source": [
        "points = [(2, 3), (1, 2), (5, 1)]\n",
        "sorted_points = sorted(points, key=lambda x: x[1])\n",
        "print(sorted_points)\n"
      ],
      "metadata": {
        "colab": {
          "base_uri": "https://localhost:8080/"
        },
        "id": "zsHUHz2ZZdl4",
        "outputId": "8f98d69b-581c-4492-855d-5e0bf5c71489"
      },
      "execution_count": null,
      "outputs": [
        {
          "output_type": "stream",
          "name": "stdout",
          "text": [
            "[(5, 1), (1, 2), (2, 3)]\n"
          ]
        }
      ]
    },
    {
      "cell_type": "code",
      "source": [
        "# Inline Operations:\n",
        "\n",
        "# Useful when defining small functions in data processing pipelines."
      ],
      "metadata": {
        "id": "omsJKDI7ZhSL"
      },
      "execution_count": null,
      "outputs": []
    },
    {
      "cell_type": "code",
      "source": [
        "nums = [5, 10, 15, 20]\n",
        "doubled = list(map(lambda x: x * 2, nums))\n",
        "print(doubled)\n"
      ],
      "metadata": {
        "colab": {
          "base_uri": "https://localhost:8080/"
        },
        "id": "-gzvLhvrZk9i",
        "outputId": "2d746dd4-1b75-482b-dc1b-8902234707fe"
      },
      "execution_count": null,
      "outputs": [
        {
          "output_type": "stream",
          "name": "stdout",
          "text": [
            "[10, 20, 30, 40]\n"
          ]
        }
      ]
    },
    {
      "cell_type": "code",
      "source": [
        "#Q.9 explain the purpose and usage of the map()function in python?"
      ],
      "metadata": {
        "id": "hkqFTlzdZoGc"
      },
      "execution_count": null,
      "outputs": []
    },
    {
      "cell_type": "code",
      "source": [
        "# The map() function is a built-in Python function that applies a specified function to each item in an iterable (like a list, tuple, or set) and returns a map object (an iterator) with the results.\n",
        "\n",
        "# Purpose of map()\n",
        "# The primary purpose of map() is to:\n",
        "\n",
        "# Apply a transformation or operation to each element in an iterable.\n",
        "# Do so efficiently without requiring explicit loops.\n"
      ],
      "metadata": {
        "id": "vaZEuyqPauCY"
      },
      "execution_count": null,
      "outputs": []
    },
    {
      "cell_type": "code",
      "source": [
        "# Single Iterable:\n",
        "\n",
        "# The function is applied to each element of the iterable.\n",
        "# Returns a map object that can be converted to a list, tuple, or other collection types"
      ],
      "metadata": {
        "id": "LZczJJeeawXn"
      },
      "execution_count": null,
      "outputs": []
    },
    {
      "cell_type": "code",
      "source": [
        "nums = [1, 2, 3, 4]\n",
        "squared = map(lambda x: x**2, nums)\n",
        "print(list(squared))\n"
      ],
      "metadata": {
        "colab": {
          "base_uri": "https://localhost:8080/"
        },
        "id": "kggn_P4Qa5De",
        "outputId": "6eefc56c-de73-4ad1-fdf8-2a99896228b9"
      },
      "execution_count": null,
      "outputs": [
        {
          "output_type": "stream",
          "name": "stdout",
          "text": [
            "[1, 4, 9, 16]\n"
          ]
        }
      ]
    },
    {
      "cell_type": "code",
      "source": [
        "# Multiple Iterables:\n",
        "\n",
        "# If multiple iterables are provided, the function must accept as many arguments as there are iterables.\n",
        "# The map() function stops when the shortest iterable is exhausted."
      ],
      "metadata": {
        "id": "pNYBbv_aa8Nh"
      },
      "execution_count": null,
      "outputs": []
    },
    {
      "cell_type": "code",
      "source": [
        "nums1 = [1, 2, 3]\n",
        "nums2 = [4, 5, 6]\n",
        "summed = map(lambda x, y: x + y, nums1, nums2)\n",
        "print(list(summed))\n"
      ],
      "metadata": {
        "colab": {
          "base_uri": "https://localhost:8080/"
        },
        "id": "5XwVm4m_bH_q",
        "outputId": "34331753-4a84-4868-e42f-498360e2263c"
      },
      "execution_count": null,
      "outputs": [
        {
          "output_type": "stream",
          "name": "stdout",
          "text": [
            "[5, 7, 9]\n"
          ]
        }
      ]
    },
    {
      "cell_type": "code",
      "source": [
        "# #Q.10 What is the difference between `map()`, `reduce()`, and `filter()` functions in Python?\n",
        "\n",
        "# The map(), reduce(), and filter() functions in Python are built-in functions that support functional programming paradigms. Each serves a distinct purpose, making them useful in different contexts.\n",
        "\n",
        "# 1. map()\n",
        "# Purpose: Transforms each element in an iterable by applying a given function and returns an iterator with the transformed elements.\n",
        "# Number of Inputs: Works with one or more iterables.\n",
        "# Common Use Case: Apply a function to every element of a list or iterable.\n"
      ],
      "metadata": {
        "id": "3WtDLqNmbLs7"
      },
      "execution_count": null,
      "outputs": []
    },
    {
      "cell_type": "code",
      "source": [
        "nums = [1, 2, 3, 4]\n",
        "squared = map(lambda x: x**2, nums)\n",
        "print(list(squared))\n"
      ],
      "metadata": {
        "colab": {
          "base_uri": "https://localhost:8080/"
        },
        "id": "4KpMyDlKbk0q",
        "outputId": "1fbb306b-50d3-435c-c660-ab441a6844af"
      },
      "execution_count": null,
      "outputs": [
        {
          "output_type": "stream",
          "name": "stdout",
          "text": [
            "[1, 4, 9, 16]\n"
          ]
        }
      ]
    },
    {
      "cell_type": "code",
      "source": [
        "# reduce()\n",
        "# Purpose: Applies a function cumulatively to the items of an iterable, reducing it to a single value.\n",
        "# Number of Inputs: Works with a single iterable.\n",
        "# Common Use Case: Perform aggregation or combination, like summing all elements, finding the product, etc."
      ],
      "metadata": {
        "id": "moIzIMRZcMU_"
      },
      "execution_count": null,
      "outputs": []
    },
    {
      "cell_type": "code",
      "source": [
        "from functools import reduce\n",
        "nums = [1, 2, 3, 4]\n",
        "product = reduce(lambda x, y: x * y, nums)\n",
        "print(product)\n"
      ],
      "metadata": {
        "colab": {
          "base_uri": "https://localhost:8080/"
        },
        "id": "xwt_r8QtcRZa",
        "outputId": "87f4a5ed-f52d-4e75-c296-a37d355997b6"
      },
      "execution_count": null,
      "outputs": [
        {
          "output_type": "stream",
          "name": "stdout",
          "text": [
            "24\n"
          ]
        }
      ]
    },
    {
      "cell_type": "code",
      "source": [
        "# filter()\n",
        "# Purpose: Filters elements in an iterable based on a given function (returns only elements for which the function returns True).\n",
        "# Number of Inputs: Works with a single iterable.\n",
        "# Common Use Case: Extract a subset of elements that meet a specific condition."
      ],
      "metadata": {
        "id": "Z7_L_8kZcWom"
      },
      "execution_count": null,
      "outputs": []
    },
    {
      "cell_type": "code",
      "source": [
        "nums = [1, 2, 3, 4, 5, 6]\n",
        "even_nums = filter(lambda x: x % 2 == 0, nums)\n",
        "print(list(even_nums))\n"
      ],
      "metadata": {
        "colab": {
          "base_uri": "https://localhost:8080/"
        },
        "id": "qA7vYf2fcjGW",
        "outputId": "cf7481e1-95bc-4ca7-d723-caf313c2b614"
      },
      "execution_count": null,
      "outputs": [
        {
          "output_type": "stream",
          "name": "stdout",
          "text": [
            "[2, 4, 6]\n"
          ]
        }
      ]
    },
    {
      "cell_type": "code",
      "source": [
        "result = map(lambda x: x**2, nums)\n",
        "print(list(result))\n"
      ],
      "metadata": {
        "colab": {
          "base_uri": "https://localhost:8080/"
        },
        "id": "_Eze1EokcnvO",
        "outputId": "1c61b743-3370-418d-e26d-5cb5c76e5a63"
      },
      "execution_count": null,
      "outputs": [
        {
          "output_type": "stream",
          "name": "stdout",
          "text": [
            "[1, 4, 9, 16, 25, 36]\n"
          ]
        }
      ]
    },
    {
      "cell_type": "code",
      "source": [
        "from functools import reduce\n",
        "result = reduce(lambda x, y: x * y, nums)\n",
        "print(result)\n"
      ],
      "metadata": {
        "colab": {
          "base_uri": "https://localhost:8080/"
        },
        "id": "rJ88bJXFc6zL",
        "outputId": "3a2bcc00-10d1-46eb-d447-24dc88d1c88c"
      },
      "execution_count": null,
      "outputs": [
        {
          "output_type": "stream",
          "name": "stdout",
          "text": [
            "720\n"
          ]
        }
      ]
    },
    {
      "cell_type": "code",
      "source": [
        "result = filter(lambda x: x % 2 == 0, nums)\n",
        "print(list(result))\n"
      ],
      "metadata": {
        "colab": {
          "base_uri": "https://localhost:8080/"
        },
        "id": "EhOGLFEgc_sv",
        "outputId": "a0b035eb-5c08-4c70-fbc0-f280269be6bb"
      },
      "execution_count": null,
      "outputs": [
        {
          "output_type": "stream",
          "name": "stdout",
          "text": [
            "[2, 4, 6]\n"
          ]
        }
      ]
    },
    {
      "cell_type": "code",
      "source": [
        "#Q.11 Using pen & Paper write the internal mechanism for sum operation using reduce function on this given list:[47,11,42,13]\n",
        "from functools import reduce\n",
        "\n",
        "nums = [47, 11, 42, 13]\n",
        "result = reduce(lambda x, y: x + y, nums)\n",
        "print(result)\n",
        "\n"
      ],
      "metadata": {
        "colab": {
          "base_uri": "https://localhost:8080/"
        },
        "id": "DCy1aKicdD1P",
        "outputId": "d29f63d6-10aa-4fee-f24c-12702746bf7d"
      },
      "execution_count": null,
      "outputs": [
        {
          "output_type": "stream",
          "name": "stdout",
          "text": [
            "113\n"
          ]
        }
      ]
    },
    {
      "cell_type": "code",
      "source": [
        "#PRACTCAL QUESTONS\n"
      ],
      "metadata": {
        "id": "4IaOLxiTdvzr"
      },
      "execution_count": null,
      "outputs": []
    },
    {
      "cell_type": "code",
      "source": [
        "#Q.1 Write a Python function that takes a list of numbers as input and returns the sum of all even numbers in the list.\n"
      ],
      "metadata": {
        "id": "Za3KPgxceKtk"
      },
      "execution_count": null,
      "outputs": []
    },
    {
      "cell_type": "code",
      "source": [
        "def sum_of_even_numbers(numbers):\n",
        "    \"\"\"\n",
        "    Returns the sum of all even numbers in the given list.\n",
        "\n",
        "    Parameters:\n",
        "        numbers (list): A list of integers.\n",
        "\n",
        "    Returns:\n",
        "        int: The sum of even numbers in the list.\n",
        "    \"\"\"\n",
        "    return sum(num for num in numbers if num % 2 == 0)\n",
        "\n",
        "numbers = [10, 15, 20, 25, 30]\n",
        "result = sum_of_even_numbers(numbers)\n",
        "print(f\"Sum of even numbers: {result}\")\n"
      ],
      "metadata": {
        "colab": {
          "base_uri": "https://localhost:8080/"
        },
        "id": "4kmo_f9CeWv0",
        "outputId": "51648c3b-d985-4d2e-c601-63553c94f488"
      },
      "execution_count": null,
      "outputs": [
        {
          "output_type": "stream",
          "name": "stdout",
          "text": [
            "Sum of even numbers: 60\n"
          ]
        }
      ]
    },
    {
      "cell_type": "code",
      "source": [
        "# List Comprehension:\n",
        "# num for num in numbers if num % 2 == 0 generates all even numbers from the input list.\n",
        "# sum() Function:\n",
        "# Calculates the total of the generated even numbers."
      ],
      "metadata": {
        "id": "2971NwUPen-G"
      },
      "execution_count": null,
      "outputs": []
    },
    {
      "cell_type": "code",
      "source": [
        "# Q.2 Create a Python function that accepts a string and returns the reverse of that string.\n",
        "\n"
      ],
      "metadata": {
        "id": "bzDnw99eeuPv"
      },
      "execution_count": null,
      "outputs": []
    },
    {
      "cell_type": "code",
      "source": [
        "def reverse_string(s):\n",
        "    \"\"\"\n",
        "    Returns the reverse of the given string.\n",
        "\n",
        "    Parameters:\n",
        "        s (str): The input string.\n",
        "\n",
        "    Returns:\n",
        "        str: The reversed string.\n",
        "    \"\"\"\n",
        "    return s[::-1]\n",
        "\n",
        "input_string = \"hello\"\n",
        "reversed_string = reverse_string(input_string)\n",
        "print(f\"Original string: {input_string}\")\n",
        "print(f\"Reversed string: {reversed_string}\")\n"
      ],
      "metadata": {
        "colab": {
          "base_uri": "https://localhost:8080/"
        },
        "id": "aJt1KOCPfEHI",
        "outputId": "8165f377-de88-4a1d-fe96-0fa233a049fd"
      },
      "execution_count": null,
      "outputs": [
        {
          "output_type": "stream",
          "name": "stdout",
          "text": [
            "Original string: hello\n",
            "Reversed string: olleh\n"
          ]
        }
      ]
    },
    {
      "cell_type": "code",
      "source": [
        "#Q.3 Implement a Python function that takes a list of integers and returns a new list containing the squares of each number.\n"
      ],
      "metadata": {
        "id": "pORDwSB6fKwm"
      },
      "execution_count": null,
      "outputs": []
    },
    {
      "cell_type": "code",
      "source": [
        "def square_numbers(numbers):\n",
        "    \"\"\"\n",
        "    Returns a new list containing the squares of each number in the input list.\n",
        "\n",
        "    Parameters:\n",
        "        numbers (list): A list of integers.\n",
        "\n",
        "    Returns:\n",
        "        list: A list of squared integers.\n",
        "    \"\"\"\n",
        "    return [num**2 for num in numbers]\n",
        "\n",
        "input_list = [1, 2, 3, 4, 5]\n",
        "squared_list = square_numbers(input_list)\n",
        "print(f\"Original list: {input_list}\")\n",
        "print(f\"Squared list: {squared_list}\")\n"
      ],
      "metadata": {
        "colab": {
          "base_uri": "https://localhost:8080/"
        },
        "id": "aDj9eqWXf5sR",
        "outputId": "79435bc2-4b07-4bd3-fbff-0ea525b8a9d2"
      },
      "execution_count": null,
      "outputs": [
        {
          "output_type": "stream",
          "name": "stdout",
          "text": [
            "Original list: [1, 2, 3, 4, 5]\n",
            "Squared list: [1, 4, 9, 16, 25]\n"
          ]
        }
      ]
    },
    {
      "cell_type": "code",
      "source": [
        "# Q.4 Write a Python function that checks if a given number is prime or not from 1 to 200.\n"
      ],
      "metadata": {
        "id": "NKlMGgFGf_si"
      },
      "execution_count": null,
      "outputs": []
    },
    {
      "cell_type": "code",
      "source": [
        "def is_prime(num):\n",
        "    \"\"\"\n",
        "    Checks if a number is prime.\n",
        "\n",
        "    Parameters:\n",
        "        num (int): The number to check.\n",
        "\n",
        "    Returns:\n",
        "        bool: True if the number is prime, False otherwise.\n",
        "    \"\"\"\n",
        "    if num <= 1:\n",
        "        return False\n",
        "    for i in range(2, int(num ** 0.5) + 1):\n",
        "        if num % i == 0:\n",
        "            return False\n",
        "    return True\n",
        "\n",
        "primes = [num for num in range(1, 100) if is_prime(num)]\n",
        "print(f\"Prime numbers from 1 to 100: {primes}\")\n"
      ],
      "metadata": {
        "colab": {
          "base_uri": "https://localhost:8080/"
        },
        "id": "hUQKilp_gNQB",
        "outputId": "a8b87abb-3906-46e8-9a1f-946aa293da5e"
      },
      "execution_count": null,
      "outputs": [
        {
          "output_type": "stream",
          "name": "stdout",
          "text": [
            "Prime numbers from 1 to 100: [2, 3, 5, 7, 11, 13, 17, 19, 23, 29, 31, 37, 41, 43, 47, 53, 59, 61, 67, 71, 73, 79, 83, 89, 97]\n"
          ]
        }
      ]
    },
    {
      "cell_type": "code",
      "source": [
        "#Q.5 Create an iterator class in Python that generates the Fibonacci sequence up to a specified number of Terms"
      ],
      "metadata": {
        "id": "oyMHyQHOgeI4"
      },
      "execution_count": null,
      "outputs": []
    },
    {
      "cell_type": "code",
      "source": [
        "class FibonacciIterator:\n",
        "    def __init__(self, n):\n",
        "        \"\"\"\n",
        "        Initializes the Fibonacci sequence iterator.\n",
        "\n",
        "        Parameters:\n",
        "            n (int): The number of terms in the Fibonacci sequence to generate.\n",
        "        \"\"\"\n",
        "        self.n = n\n",
        "        self.a, self.b = 0, 1\n",
        "        self.count = 0\n",
        "\n",
        "    def __iter__(self):\n",
        "        \"\"\"\n",
        "        Returns the iterator object itself.\n",
        "        \"\"\"\n",
        "        return self\n",
        "\n",
        "    def __next__(self):\n",
        "        \"\"\"\n",
        "        Returns the next Fibonacci number in the sequence.\n",
        "\n",
        "        Raises:\n",
        "            StopIteration: When the specified number of terms has been reached.\n",
        "        \"\"\"\n",
        "        if self.count < self.n:\n",
        "            fib_num = self.a\n",
        "            self.a, self.b = self.b, self.a + self.b\n",
        "            self.count += 1\n",
        "            return fib_num\n",
        "        else:\n",
        "            raise StopIteration\n",
        "\n",
        "fibonacci_sequence = FibonacciIterator(10)\n",
        "for num in fibonacci_sequence:\n",
        "    print(num)\n"
      ],
      "metadata": {
        "colab": {
          "base_uri": "https://localhost:8080/"
        },
        "id": "OeWmPtRXhVzH",
        "outputId": "1ad4216c-12e6-4129-8b6c-fb82a37965de"
      },
      "execution_count": null,
      "outputs": [
        {
          "output_type": "stream",
          "name": "stdout",
          "text": [
            "0\n",
            "1\n",
            "1\n",
            "2\n",
            "3\n",
            "5\n",
            "8\n",
            "13\n",
            "21\n",
            "34\n"
          ]
        }
      ]
    },
    {
      "cell_type": "code",
      "source": [
        "#Q.6 Write a generator function in Python that yields the powers of 2 up to a given exponent.\n"
      ],
      "metadata": {
        "id": "crhzBA43hYgU"
      },
      "execution_count": null,
      "outputs": []
    },
    {
      "cell_type": "code",
      "source": [
        "def powers_of_two(exponent):\n",
        "    \"\"\"\n",
        "    Yields the powers of 2 from 2^0 to 2^exponent.\n",
        "\n",
        "    Parameters:\n",
        "        exponent (int): The highest exponent to generate the power of 2.\n",
        "    \"\"\"\n",
        "    for i in range(exponent + 1):\n",
        "        yield 2 ** i\n",
        "\n",
        "for power in powers_of_two(5):\n",
        "    print(power)\n"
      ],
      "metadata": {
        "colab": {
          "base_uri": "https://localhost:8080/"
        },
        "id": "QQQNtjwKhr1-",
        "outputId": "de82209a-5517-42b0-aeda-73906c8f5a68"
      },
      "execution_count": null,
      "outputs": [
        {
          "output_type": "stream",
          "name": "stdout",
          "text": [
            "1\n",
            "2\n",
            "4\n",
            "8\n",
            "16\n",
            "32\n"
          ]
        }
      ]
    },
    {
      "cell_type": "code",
      "source": [
        "#Q.7 Implement a generator function that reads a file line by line and yields each line as a string.\n"
      ],
      "metadata": {
        "id": "1K2VQIeWh5hY"
      },
      "execution_count": null,
      "outputs": []
    },
    {
      "cell_type": "code",
      "source": [
        "def powers_of_two(exponent):\n",
        "    \"\"\"\n",
        "    Yields the powers of 2 from 2^0 to 2^exponent.\n",
        "\n",
        "    Parameters:\n",
        "        exponent (int): The highest exponent to generate the power of 2.\n",
        "    \"\"\"\n",
        "    for i in range(exponent + 1):\n",
        "        yield 2 ** i\n",
        "\n",
        "for power in powers_of_two(5):\n",
        "    print(power)\n"
      ],
      "metadata": {
        "colab": {
          "base_uri": "https://localhost:8080/"
        },
        "id": "i5jAyoHTiFPW",
        "outputId": "0d62e557-3492-421b-aa2e-bf318528b9ae"
      },
      "execution_count": null,
      "outputs": [
        {
          "output_type": "stream",
          "name": "stdout",
          "text": [
            "1\n",
            "2\n",
            "4\n",
            "8\n",
            "16\n",
            "32\n"
          ]
        }
      ]
    },
    {
      "cell_type": "code",
      "source": [
        "#Q.8 Use a lambda function in Python to sort a list of tuples based on the second element of each tuple.\n"
      ],
      "metadata": {
        "id": "V-hKKgw-iV5f"
      },
      "execution_count": null,
      "outputs": []
    },
    {
      "cell_type": "code",
      "source": [
        "#you can use a lambda function in Python to sort a list of tuples based on the second element of each tuple by passing it as the key parameter to the sorted() function."
      ],
      "metadata": {
        "id": "sMfRdy52iscV"
      },
      "execution_count": null,
      "outputs": []
    },
    {
      "cell_type": "code",
      "source": [
        "\n",
        "tuples_list = [(1, 3), (4, 1), (2, 2), (5, 0)]\n",
        "\n",
        "sorted_tuples = sorted(tuples_list, key=lambda x: x[1])\n",
        "\n",
        "print(sorted_tuples)\n"
      ],
      "metadata": {
        "colab": {
          "base_uri": "https://localhost:8080/"
        },
        "id": "pM6Rl0T_i0Pj",
        "outputId": "13d440a3-fb86-4460-b69a-dbdbb9eb876f"
      },
      "execution_count": null,
      "outputs": [
        {
          "output_type": "stream",
          "name": "stdout",
          "text": [
            "[(5, 0), (4, 1), (2, 2), (1, 3)]\n"
          ]
        }
      ]
    },
    {
      "cell_type": "code",
      "source": [
        "#Q.9 Write a Python program that uses `map()` to convert a list of temperatures from Celsius to Fahrenheit.\n",
        "\n"
      ],
      "metadata": {
        "id": "3HWoy4i8i5Hs"
      },
      "execution_count": null,
      "outputs": []
    },
    {
      "cell_type": "code",
      "source": [
        "# Function to convert Celsius to Fahrenheit\n",
        "def celsius_to_fahrenheit(celsius):\n",
        "    return (celsius * 9/5) + 32\n",
        "celsius_temperatures = [0, 20, 25, 30, 35, 40]\n",
        "fahrenheit_temperatures = list(map(celsius_to_fahrenheit, celsius_temperatures))\n",
        "print(f\"Temperatures in Fahrenheit: {fahrenheit_temperatures}\")\n"
      ],
      "metadata": {
        "colab": {
          "base_uri": "https://localhost:8080/"
        },
        "id": "DPwf1tYVjcBl",
        "outputId": "a0f94a05-ffe3-4b0c-9348-08038f38d47f"
      },
      "execution_count": null,
      "outputs": [
        {
          "output_type": "stream",
          "name": "stdout",
          "text": [
            "Temperatures in Fahrenheit: [32.0, 68.0, 77.0, 86.0, 95.0, 104.0]\n"
          ]
        }
      ]
    },
    {
      "cell_type": "code",
      "source": [
        "#Q.10 Create a Python program that uses `filter()` to remove all the vowels from a given string.\n"
      ],
      "metadata": {
        "id": "rGoZztHOjeFS"
      },
      "execution_count": null,
      "outputs": []
    },
    {
      "cell_type": "code",
      "source": [
        "def is_not_vowel(char):\n",
        "    vowels = \"aeiouAEIOU\"\n",
        "    return char not in vowels\n",
        "def remove_vowels(input_string):\n",
        "       return ''.join(filter(is_not_vowel, input_string))\n",
        "input_string = \"Hello, World!\"\n",
        "result = remove_vowels(input_string)\n",
        "\n",
        "print(f\"Original string: {input_string}\")\n",
        "print(f\"String without vowels: {result}\")\n"
      ],
      "metadata": {
        "colab": {
          "base_uri": "https://localhost:8080/"
        },
        "id": "fcjPHfSZjqTK",
        "outputId": "7de7d2db-4eed-4d4b-92da-3c7a68e30515"
      },
      "execution_count": null,
      "outputs": [
        {
          "output_type": "stream",
          "name": "stdout",
          "text": [
            "Original string: Hello, World!\n",
            "String without vowels: Hll, Wrld!\n"
          ]
        }
      ]
    },
    {
      "cell_type": "code",
      "source": [
        "#Q.11 Imagine an accounting routine used in a book shop. It works on a list with sublists, which look like this:\n",
        "\n",
        "# Write a Python program, which returns a list with 2-tuples. Each tuple consists of the order number and the\n",
        "# product of the price per item and the quantity. The product should be increased by 10,- € if the value of the\n",
        "# order is smaller than 100,00 €.\n",
        "\n",
        "# Write a Python program using lambda and map.\n",
        "\n"
      ],
      "metadata": {
        "id": "kwQL6yYkj3ZB"
      },
      "execution_count": null,
      "outputs": []
    },
    {
      "cell_type": "code",
      "source": [
        "# Example list of orders [order_number, price_per_item, quantity]\n",
        "orders = [\n",
        "    [1, 15.0, 3],    # Order 1: 15.0 * 3 = 45.0\n",
        "    [2, 50.0, 1],    # Order 2: 50.0 * 1 = 50.0\n",
        "    [3, 25.0, 5],    # Order 3: 25.0 * 5 = 125.0\n",
        "    [4, 12.0, 8]     # Order 4: 12.0 * 8 = 96.0\n",
        "]\n",
        "\n",
        "def calculate_order(order):\n",
        "    order_number, price_per_item, quantity = order\n",
        "    total_price = price_per_item * quantity\n",
        "    if total_price < 100:\n",
        "        total_price += 10  # Add 10 € if the total price is less than 100 €\n",
        "    return (order_number, total_price)\n",
        "result = list(map(lambda order: (order[0], order[1] * order[2] + 10) if (order[1] * order[2]) < 100 else (order[0], order[1] * order[2]), orders))\n",
        "\n",
        "print(result)\n"
      ],
      "metadata": {
        "colab": {
          "base_uri": "https://localhost:8080/"
        },
        "id": "owb71NfMkHzu",
        "outputId": "f2909aa1-e64f-44c3-f520-dc99ab30dd30"
      },
      "execution_count": null,
      "outputs": [
        {
          "output_type": "stream",
          "name": "stdout",
          "text": [
            "[(1, 55.0), (2, 60.0), (3, 125.0), (4, 106.0)]\n"
          ]
        }
      ]
    },
    {
      "cell_type": "code",
      "source": [],
      "metadata": {
        "id": "KjIQN561lrH3"
      },
      "execution_count": null,
      "outputs": []
    }
  ]
}